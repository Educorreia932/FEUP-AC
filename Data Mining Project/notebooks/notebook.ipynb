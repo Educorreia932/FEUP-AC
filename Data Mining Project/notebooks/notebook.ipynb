{
 "cells": [
  {
   "cell_type": "markdown",
   "metadata": {},
   "source": [
    "# Data processing"
   ]
  },
  {
   "cell_type": "markdown",
   "metadata": {},
   "source": [
    "## Load data"
   ]
  },
  {
   "cell_type": "code",
   "execution_count": 43,
   "metadata": {},
   "outputs": [
    {
     "name": "stderr",
     "output_type": "stream",
     "text": [
      "C:\\Users\\skelo\\AppData\\Local\\Temp/ipykernel_19152/160468940.py:18: DtypeWarning: Columns (8) have mixed types.Specify dtype option on import or set low_memory=False.\n",
      "  trans_train_df = read_to_df(\"trans_train.csv\")\n"
     ]
    }
   ],
   "source": [
    "from utils import *\n",
    "\n",
    "import matplotlib.pyplot as plt\n",
    "import seaborn as sb\n",
    "from copy import deepcopy\n",
    "\n",
    "%matplotlib inline\n",
    "\n",
    "account_df = read_to_df(\"account.csv\")\n",
    "card_test_df = read_to_df(\"card_test.csv\")\n",
    "card_train_df = read_to_df(\"card_train.csv\")\n",
    "client_df = read_to_df(\"client.csv\")\n",
    "disp_df = read_to_df(\"disp.csv\")\n",
    "district_df = read_to_df(\"district.csv\")\n",
    "loan_test_df = read_to_df(\"loan_test.csv\")\n",
    "loan_train_df = read_to_df(\"loan_train.csv\")\n",
    "trans_test_df = read_to_df(\"trans_test.csv\")\n",
    "trans_train_df = read_to_df(\"trans_train.csv\")"
   ]
  },
  {
   "cell_type": "markdown",
   "metadata": {},
   "source": [
    "## Process data"
   ]
  },
  {
   "cell_type": "markdown",
   "metadata": {},
   "source": [
    "### Process loan data + flip status to predict negatives instead of positives"
   ]
  },
  {
   "cell_type": "code",
   "execution_count": 44,
   "metadata": {},
   "outputs": [],
   "source": [
    "#loan_train_df['status_rejected'] = loan_train_df['status'].apply(lambda x: -x)\n",
    "#loan_test_df['status_rejected'] = loan_test_df['status'].apply(lambda x: -x)\n",
    "\n",
    "#loan_train_df"
   ]
  },
  {
   "cell_type": "markdown",
   "metadata": {},
   "source": [
    "### Process account data"
   ]
  },
  {
   "cell_type": "code",
   "execution_count": 45,
   "metadata": {},
   "outputs": [
    {
     "data": {
      "text/html": [
       "<div>\n",
       "<style scoped>\n",
       "    .dataframe tbody tr th:only-of-type {\n",
       "        vertical-align: middle;\n",
       "    }\n",
       "\n",
       "    .dataframe tbody tr th {\n",
       "        vertical-align: top;\n",
       "    }\n",
       "\n",
       "    .dataframe thead th {\n",
       "        text-align: right;\n",
       "    }\n",
       "</style>\n",
       "<table border=\"1\" class=\"dataframe\">\n",
       "  <thead>\n",
       "    <tr style=\"text-align: right;\">\n",
       "      <th></th>\n",
       "      <th>account_id</th>\n",
       "      <th>district_id</th>\n",
       "      <th>frequency</th>\n",
       "      <th>date</th>\n",
       "    </tr>\n",
       "  </thead>\n",
       "  <tbody>\n",
       "    <tr>\n",
       "      <th>0</th>\n",
       "      <td>576</td>\n",
       "      <td>55</td>\n",
       "      <td>1.0</td>\n",
       "      <td>930101</td>\n",
       "    </tr>\n",
       "    <tr>\n",
       "      <th>1</th>\n",
       "      <td>3818</td>\n",
       "      <td>74</td>\n",
       "      <td>1.0</td>\n",
       "      <td>930101</td>\n",
       "    </tr>\n",
       "    <tr>\n",
       "      <th>2</th>\n",
       "      <td>704</td>\n",
       "      <td>55</td>\n",
       "      <td>1.0</td>\n",
       "      <td>930101</td>\n",
       "    </tr>\n",
       "    <tr>\n",
       "      <th>3</th>\n",
       "      <td>2378</td>\n",
       "      <td>16</td>\n",
       "      <td>1.0</td>\n",
       "      <td>930101</td>\n",
       "    </tr>\n",
       "    <tr>\n",
       "      <th>4</th>\n",
       "      <td>2632</td>\n",
       "      <td>24</td>\n",
       "      <td>1.0</td>\n",
       "      <td>930102</td>\n",
       "    </tr>\n",
       "  </tbody>\n",
       "</table>\n",
       "</div>"
      ],
      "text/plain": [
       "   account_id  district_id  frequency    date\n",
       "0         576           55        1.0  930101\n",
       "1        3818           74        1.0  930101\n",
       "2         704           55        1.0  930101\n",
       "3        2378           16        1.0  930101\n",
       "4        2632           24        1.0  930102"
      ]
     },
     "execution_count": 45,
     "metadata": {},
     "output_type": "execute_result"
    }
   ],
   "source": [
    "avg_transactions_per_week = 3\n",
    "avg_weeks_per_month = (365.25 / 7 / 12)\n",
    "\n",
    "account_df['frequency'] = account_df['frequency'].apply(lambda x: 1 if x == 'monthly issuance' else avg_weeks_per_month if x == 'weekly issuance' else (365.25 / 7 / 12) * avg_transactions_per_week)\n",
    "account_df.head()"
   ]
  },
  {
   "cell_type": "markdown",
   "metadata": {},
   "source": [
    "### Process client data"
   ]
  },
  {
   "cell_type": "code",
   "execution_count": 46,
   "metadata": {},
   "outputs": [
    {
     "data": {
      "text/html": [
       "<div>\n",
       "<style scoped>\n",
       "    .dataframe tbody tr th:only-of-type {\n",
       "        vertical-align: middle;\n",
       "    }\n",
       "\n",
       "    .dataframe tbody tr th {\n",
       "        vertical-align: top;\n",
       "    }\n",
       "\n",
       "    .dataframe thead th {\n",
       "        text-align: right;\n",
       "    }\n",
       "</style>\n",
       "<table border=\"1\" class=\"dataframe\">\n",
       "  <thead>\n",
       "    <tr style=\"text-align: right;\">\n",
       "      <th></th>\n",
       "      <th>client_id</th>\n",
       "      <th>district_id</th>\n",
       "      <th>sex</th>\n",
       "      <th>age</th>\n",
       "      <th>code</th>\n",
       "      <th>name</th>\n",
       "      <th>region</th>\n",
       "      <th>no. of inhabitants</th>\n",
       "      <th>no. of municipalities with inhabitants &lt; 499</th>\n",
       "      <th>no. of municipalities with inhabitants 500-1999</th>\n",
       "      <th>no. of municipalities with inhabitants 2000-9999</th>\n",
       "      <th>no. of municipalities with inhabitants &gt;10000</th>\n",
       "      <th>no. of cities</th>\n",
       "      <th>ratio of urban inhabitants</th>\n",
       "      <th>average salary</th>\n",
       "      <th>unemploymant rate '95</th>\n",
       "      <th>unemploymant rate '96</th>\n",
       "      <th>no. of enterpreneurs per 1000 inhabitants</th>\n",
       "      <th>no. of commited crimes '95</th>\n",
       "      <th>no. of commited crimes '96</th>\n",
       "    </tr>\n",
       "  </thead>\n",
       "  <tbody>\n",
       "    <tr>\n",
       "      <th>0</th>\n",
       "      <td>1</td>\n",
       "      <td>18</td>\n",
       "      <td>0</td>\n",
       "      <td>28</td>\n",
       "      <td>1.0</td>\n",
       "      <td>Hl.m. Praha</td>\n",
       "      <td>Prague</td>\n",
       "      <td>1204953.0</td>\n",
       "      <td>0.0</td>\n",
       "      <td>0.0</td>\n",
       "      <td>0.0</td>\n",
       "      <td>1.0</td>\n",
       "      <td>1.0</td>\n",
       "      <td>100.0</td>\n",
       "      <td>12541.0</td>\n",
       "      <td>0.29</td>\n",
       "      <td>0.43</td>\n",
       "      <td>167.0</td>\n",
       "      <td>85677</td>\n",
       "      <td>99107.0</td>\n",
       "    </tr>\n",
       "    <tr>\n",
       "      <th>1</th>\n",
       "      <td>2</td>\n",
       "      <td>1</td>\n",
       "      <td>1</td>\n",
       "      <td>53</td>\n",
       "      <td>2.0</td>\n",
       "      <td>Benesov</td>\n",
       "      <td>central Bohemia</td>\n",
       "      <td>88884.0</td>\n",
       "      <td>80.0</td>\n",
       "      <td>26.0</td>\n",
       "      <td>6.0</td>\n",
       "      <td>2.0</td>\n",
       "      <td>5.0</td>\n",
       "      <td>46.7</td>\n",
       "      <td>8507.0</td>\n",
       "      <td>1.67</td>\n",
       "      <td>1.85</td>\n",
       "      <td>132.0</td>\n",
       "      <td>2159</td>\n",
       "      <td>2674.0</td>\n",
       "    </tr>\n",
       "    <tr>\n",
       "      <th>2</th>\n",
       "      <td>3</td>\n",
       "      <td>1</td>\n",
       "      <td>0</td>\n",
       "      <td>58</td>\n",
       "      <td>3.0</td>\n",
       "      <td>Beroun</td>\n",
       "      <td>central Bohemia</td>\n",
       "      <td>75232.0</td>\n",
       "      <td>55.0</td>\n",
       "      <td>26.0</td>\n",
       "      <td>4.0</td>\n",
       "      <td>1.0</td>\n",
       "      <td>5.0</td>\n",
       "      <td>41.7</td>\n",
       "      <td>8980.0</td>\n",
       "      <td>1.95</td>\n",
       "      <td>2.21</td>\n",
       "      <td>111.0</td>\n",
       "      <td>2824</td>\n",
       "      <td>2813.0</td>\n",
       "    </tr>\n",
       "    <tr>\n",
       "      <th>3</th>\n",
       "      <td>4</td>\n",
       "      <td>5</td>\n",
       "      <td>1</td>\n",
       "      <td>42</td>\n",
       "      <td>4.0</td>\n",
       "      <td>Kladno</td>\n",
       "      <td>central Bohemia</td>\n",
       "      <td>149893.0</td>\n",
       "      <td>63.0</td>\n",
       "      <td>29.0</td>\n",
       "      <td>6.0</td>\n",
       "      <td>2.0</td>\n",
       "      <td>6.0</td>\n",
       "      <td>67.4</td>\n",
       "      <td>9753.0</td>\n",
       "      <td>4.64</td>\n",
       "      <td>5.05</td>\n",
       "      <td>109.0</td>\n",
       "      <td>5244</td>\n",
       "      <td>5892.0</td>\n",
       "    </tr>\n",
       "    <tr>\n",
       "      <th>4</th>\n",
       "      <td>5</td>\n",
       "      <td>5</td>\n",
       "      <td>0</td>\n",
       "      <td>38</td>\n",
       "      <td>5.0</td>\n",
       "      <td>Kolin</td>\n",
       "      <td>central Bohemia</td>\n",
       "      <td>95616.0</td>\n",
       "      <td>65.0</td>\n",
       "      <td>30.0</td>\n",
       "      <td>4.0</td>\n",
       "      <td>1.0</td>\n",
       "      <td>6.0</td>\n",
       "      <td>51.4</td>\n",
       "      <td>9307.0</td>\n",
       "      <td>3.85</td>\n",
       "      <td>4.43</td>\n",
       "      <td>118.0</td>\n",
       "      <td>2616</td>\n",
       "      <td>3040.0</td>\n",
       "    </tr>\n",
       "  </tbody>\n",
       "</table>\n",
       "</div>"
      ],
      "text/plain": [
       "   client_id  district_id  sex  age  code         name           region  \\\n",
       "0          1           18    0   28   1.0  Hl.m. Praha           Prague   \n",
       "1          2            1    1   53   2.0      Benesov  central Bohemia   \n",
       "2          3            1    0   58   3.0       Beroun  central Bohemia   \n",
       "3          4            5    1   42   4.0       Kladno  central Bohemia   \n",
       "4          5            5    0   38   5.0        Kolin  central Bohemia   \n",
       "\n",
       "   no. of inhabitants  no. of municipalities with inhabitants < 499  \\\n",
       "0           1204953.0                                           0.0   \n",
       "1             88884.0                                          80.0   \n",
       "2             75232.0                                          55.0   \n",
       "3            149893.0                                          63.0   \n",
       "4             95616.0                                          65.0   \n",
       "\n",
       "   no. of municipalities with inhabitants 500-1999  \\\n",
       "0                                              0.0   \n",
       "1                                             26.0   \n",
       "2                                             26.0   \n",
       "3                                             29.0   \n",
       "4                                             30.0   \n",
       "\n",
       "   no. of municipalities with inhabitants 2000-9999  \\\n",
       "0                                               0.0   \n",
       "1                                               6.0   \n",
       "2                                               4.0   \n",
       "3                                               6.0   \n",
       "4                                               4.0   \n",
       "\n",
       "   no. of municipalities with inhabitants >10000  no. of cities  \\\n",
       "0                                            1.0            1.0   \n",
       "1                                            2.0            5.0   \n",
       "2                                            1.0            5.0   \n",
       "3                                            2.0            6.0   \n",
       "4                                            1.0            6.0   \n",
       "\n",
       "   ratio of urban inhabitants  average salary unemploymant rate '95  \\\n",
       "0                       100.0         12541.0                  0.29   \n",
       "1                        46.7          8507.0                  1.67   \n",
       "2                        41.7          8980.0                  1.95   \n",
       "3                        67.4          9753.0                  4.64   \n",
       "4                        51.4          9307.0                  3.85   \n",
       "\n",
       "   unemploymant rate '96  no. of enterpreneurs per 1000 inhabitants  \\\n",
       "0                   0.43                                      167.0   \n",
       "1                   1.85                                      132.0   \n",
       "2                   2.21                                      111.0   \n",
       "3                   5.05                                      109.0   \n",
       "4                   4.43                                      118.0   \n",
       "\n",
       "  no. of commited crimes '95  no. of commited crimes '96  \n",
       "0                      85677                     99107.0  \n",
       "1                       2159                      2674.0  \n",
       "2                       2824                      2813.0  \n",
       "3                       5244                      5892.0  \n",
       "4                       2616                      3040.0  "
      ]
     },
     "execution_count": 46,
     "metadata": {},
     "output_type": "execute_result"
    }
   ],
   "source": [
    "client_df[\"sex\"] = client_df[\"birth_number\"].apply(lambda x: 0 if int(str(x)[2:4]) > 50 else 1)\n",
    "client_df[\"age\"] = client_df[\"birth_number\"].apply(lambda x: calculate_age(read_date(x)))\n",
    "\n",
    "client_df.drop(\"birth_number\", inplace=True, axis=1)\n",
    "\n",
    "client_district_df = client_df.join(district_df)\n",
    "client_district_df.head()"
   ]
  },
  {
   "cell_type": "markdown",
   "metadata": {},
   "source": [
    "### Process disposition data"
   ]
  },
  {
   "cell_type": "code",
   "execution_count": 47,
   "metadata": {},
   "outputs": [
    {
     "data": {
      "text/html": [
       "<div>\n",
       "<style scoped>\n",
       "    .dataframe tbody tr th:only-of-type {\n",
       "        vertical-align: middle;\n",
       "    }\n",
       "\n",
       "    .dataframe tbody tr th {\n",
       "        vertical-align: top;\n",
       "    }\n",
       "\n",
       "    .dataframe thead th {\n",
       "        text-align: right;\n",
       "    }\n",
       "</style>\n",
       "<table border=\"1\" class=\"dataframe\">\n",
       "  <thead>\n",
       "    <tr style=\"text-align: right;\">\n",
       "      <th></th>\n",
       "      <th>disp_id</th>\n",
       "      <th>client_id</th>\n",
       "      <th>account_id</th>\n",
       "      <th>type</th>\n",
       "    </tr>\n",
       "  </thead>\n",
       "  <tbody>\n",
       "    <tr>\n",
       "      <th>0</th>\n",
       "      <td>1</td>\n",
       "      <td>1</td>\n",
       "      <td>1</td>\n",
       "      <td>1</td>\n",
       "    </tr>\n",
       "    <tr>\n",
       "      <th>1</th>\n",
       "      <td>2</td>\n",
       "      <td>2</td>\n",
       "      <td>2</td>\n",
       "      <td>1</td>\n",
       "    </tr>\n",
       "    <tr>\n",
       "      <th>2</th>\n",
       "      <td>3</td>\n",
       "      <td>3</td>\n",
       "      <td>2</td>\n",
       "      <td>2</td>\n",
       "    </tr>\n",
       "    <tr>\n",
       "      <th>3</th>\n",
       "      <td>4</td>\n",
       "      <td>4</td>\n",
       "      <td>3</td>\n",
       "      <td>1</td>\n",
       "    </tr>\n",
       "    <tr>\n",
       "      <th>4</th>\n",
       "      <td>5</td>\n",
       "      <td>5</td>\n",
       "      <td>3</td>\n",
       "      <td>2</td>\n",
       "    </tr>\n",
       "  </tbody>\n",
       "</table>\n",
       "</div>"
      ],
      "text/plain": [
       "   disp_id  client_id  account_id  type\n",
       "0        1          1           1     1\n",
       "1        2          2           2     1\n",
       "2        3          3           2     2\n",
       "3        4          4           3     1\n",
       "4        5          5           3     2"
      ]
     },
     "execution_count": 47,
     "metadata": {},
     "output_type": "execute_result"
    }
   ],
   "source": [
    "disp_df[\"type\"].replace({\"OWNER\": 1, \"DISPONENT\": 2}, inplace=True)\n",
    "disp_df.head()"
   ]
  },
  {
   "cell_type": "code",
   "execution_count": null,
   "metadata": {},
   "outputs": [],
   "source": []
  },
  {
   "cell_type": "markdown",
   "metadata": {},
   "source": [
    "### Process transaction data"
   ]
  },
  {
   "cell_type": "code",
   "execution_count": 48,
   "metadata": {},
   "outputs": [
    {
     "data": {
      "text/html": [
       "<div>\n",
       "<style scoped>\n",
       "    .dataframe tbody tr th:only-of-type {\n",
       "        vertical-align: middle;\n",
       "    }\n",
       "\n",
       "    .dataframe tbody tr th {\n",
       "        vertical-align: top;\n",
       "    }\n",
       "\n",
       "    .dataframe thead th {\n",
       "        text-align: right;\n",
       "    }\n",
       "</style>\n",
       "<table border=\"1\" class=\"dataframe\">\n",
       "  <thead>\n",
       "    <tr style=\"text-align: right;\">\n",
       "      <th></th>\n",
       "      <th>trans_id</th>\n",
       "      <th>account_id</th>\n",
       "      <th>date</th>\n",
       "      <th>type</th>\n",
       "      <th>operation</th>\n",
       "      <th>balance</th>\n",
       "      <th>k_symbol</th>\n",
       "      <th>bank</th>\n",
       "      <th>account</th>\n",
       "      <th>signal_amount</th>\n",
       "    </tr>\n",
       "  </thead>\n",
       "  <tbody>\n",
       "    <tr>\n",
       "      <th>0</th>\n",
       "      <td>1548749</td>\n",
       "      <td>5270</td>\n",
       "      <td>930113</td>\n",
       "      <td>credit</td>\n",
       "      <td>credit in cash</td>\n",
       "      <td>800.0</td>\n",
       "      <td>NaN</td>\n",
       "      <td>NaN</td>\n",
       "      <td>NaN</td>\n",
       "      <td>800.0</td>\n",
       "    </tr>\n",
       "    <tr>\n",
       "      <th>1</th>\n",
       "      <td>1548750</td>\n",
       "      <td>5270</td>\n",
       "      <td>930114</td>\n",
       "      <td>credit</td>\n",
       "      <td>collection from another bank</td>\n",
       "      <td>45549.0</td>\n",
       "      <td>NaN</td>\n",
       "      <td>IJ</td>\n",
       "      <td>80269753.0</td>\n",
       "      <td>44749.0</td>\n",
       "    </tr>\n",
       "    <tr>\n",
       "      <th>2</th>\n",
       "      <td>3393738</td>\n",
       "      <td>11265</td>\n",
       "      <td>930114</td>\n",
       "      <td>credit</td>\n",
       "      <td>credit in cash</td>\n",
       "      <td>1000.0</td>\n",
       "      <td>NaN</td>\n",
       "      <td>NaN</td>\n",
       "      <td>NaN</td>\n",
       "      <td>1000.0</td>\n",
       "    </tr>\n",
       "    <tr>\n",
       "      <th>3</th>\n",
       "      <td>3122924</td>\n",
       "      <td>10364</td>\n",
       "      <td>930117</td>\n",
       "      <td>credit</td>\n",
       "      <td>credit in cash</td>\n",
       "      <td>1100.0</td>\n",
       "      <td>NaN</td>\n",
       "      <td>NaN</td>\n",
       "      <td>NaN</td>\n",
       "      <td>1100.0</td>\n",
       "    </tr>\n",
       "    <tr>\n",
       "      <th>4</th>\n",
       "      <td>1121963</td>\n",
       "      <td>3834</td>\n",
       "      <td>930119</td>\n",
       "      <td>credit</td>\n",
       "      <td>credit in cash</td>\n",
       "      <td>700.0</td>\n",
       "      <td>NaN</td>\n",
       "      <td>NaN</td>\n",
       "      <td>NaN</td>\n",
       "      <td>700.0</td>\n",
       "    </tr>\n",
       "  </tbody>\n",
       "</table>\n",
       "</div>"
      ],
      "text/plain": [
       "   trans_id  account_id    date    type                     operation  \\\n",
       "0   1548749        5270  930113  credit                credit in cash   \n",
       "1   1548750        5270  930114  credit  collection from another bank   \n",
       "2   3393738       11265  930114  credit                credit in cash   \n",
       "3   3122924       10364  930117  credit                credit in cash   \n",
       "4   1121963        3834  930119  credit                credit in cash   \n",
       "\n",
       "   balance k_symbol bank     account  signal_amount  \n",
       "0    800.0      NaN  NaN         NaN          800.0  \n",
       "1  45549.0      NaN   IJ  80269753.0        44749.0  \n",
       "2   1000.0      NaN  NaN         NaN         1000.0  \n",
       "3   1100.0      NaN  NaN         NaN         1100.0  \n",
       "4    700.0      NaN  NaN         NaN          700.0  "
      ]
     },
     "execution_count": 48,
     "metadata": {},
     "output_type": "execute_result"
    }
   ],
   "source": [
    "dataframes = [trans_train_df, trans_test_df]\n",
    "\n",
    "for i in range(len(dataframes)):\n",
    "    dataframes[i]['signal'] = dataframes[i]['type'].apply(lambda x: 1 if x == 'credit' else -1)\n",
    "    dataframes[i]['signal_amount'] = dataframes[i]['amount'] * dataframes[i]['signal']\n",
    "\n",
    "    dataframes[i].drop([\"signal\", \"amount\"], axis=1, inplace=True)\n",
    "\n",
    "    # dataframes[i].groupby(\"account_id\") \n",
    "\n",
    "trans_train_df, trans_test_df = dataframes\n",
    "\n",
    "trans_train_df.head()"
   ]
  },
  {
   "cell_type": "markdown",
   "metadata": {},
   "source": [
    "### Process card data"
   ]
  },
  {
   "cell_type": "code",
   "execution_count": 49,
   "metadata": {},
   "outputs": [
    {
     "data": {
      "text/html": [
       "<div>\n",
       "<style scoped>\n",
       "    .dataframe tbody tr th:only-of-type {\n",
       "        vertical-align: middle;\n",
       "    }\n",
       "\n",
       "    .dataframe tbody tr th {\n",
       "        vertical-align: top;\n",
       "    }\n",
       "\n",
       "    .dataframe thead th {\n",
       "        text-align: right;\n",
       "    }\n",
       "</style>\n",
       "<table border=\"1\" class=\"dataframe\">\n",
       "  <thead>\n",
       "    <tr style=\"text-align: right;\">\n",
       "      <th></th>\n",
       "      <th>card_id</th>\n",
       "      <th>disp_id</th>\n",
       "      <th>type</th>\n",
       "      <th>issued</th>\n",
       "    </tr>\n",
       "  </thead>\n",
       "  <tbody>\n",
       "    <tr>\n",
       "      <th>0</th>\n",
       "      <td>1005</td>\n",
       "      <td>9285</td>\n",
       "      <td>1</td>\n",
       "      <td>931107</td>\n",
       "    </tr>\n",
       "    <tr>\n",
       "      <th>1</th>\n",
       "      <td>104</td>\n",
       "      <td>588</td>\n",
       "      <td>1</td>\n",
       "      <td>940119</td>\n",
       "    </tr>\n",
       "    <tr>\n",
       "      <th>2</th>\n",
       "      <td>747</td>\n",
       "      <td>4915</td>\n",
       "      <td>1</td>\n",
       "      <td>940205</td>\n",
       "    </tr>\n",
       "    <tr>\n",
       "      <th>3</th>\n",
       "      <td>70</td>\n",
       "      <td>439</td>\n",
       "      <td>1</td>\n",
       "      <td>940208</td>\n",
       "    </tr>\n",
       "    <tr>\n",
       "      <th>4</th>\n",
       "      <td>577</td>\n",
       "      <td>3687</td>\n",
       "      <td>1</td>\n",
       "      <td>940215</td>\n",
       "    </tr>\n",
       "  </tbody>\n",
       "</table>\n",
       "</div>"
      ],
      "text/plain": [
       "   card_id  disp_id  type  issued\n",
       "0     1005     9285     1  931107\n",
       "1      104      588     1  940119\n",
       "2      747     4915     1  940205\n",
       "3       70      439     1  940208\n",
       "4      577     3687     1  940215"
      ]
     },
     "execution_count": 49,
     "metadata": {},
     "output_type": "execute_result"
    }
   ],
   "source": [
    "dataframes = [card_train_df, card_test_df]\n",
    "\n",
    "for i in range(len(dataframes)):\n",
    "    dataframes[i][\"type\"].replace({\"classic\": 1, \"junior\": 2, \"gold\": 3}, inplace=True)\n",
    "\n",
    "card_train_df, card_test_df = dataframes\n",
    "\n",
    "card_train_df.head()"
   ]
  },
  {
   "cell_type": "markdown",
   "metadata": {},
   "source": [
    "### Process loan data"
   ]
  },
  {
   "cell_type": "code",
   "execution_count": 50,
   "metadata": {},
   "outputs": [
    {
     "data": {
      "text/html": [
       "<div>\n",
       "<style scoped>\n",
       "    .dataframe tbody tr th:only-of-type {\n",
       "        vertical-align: middle;\n",
       "    }\n",
       "\n",
       "    .dataframe tbody tr th {\n",
       "        vertical-align: top;\n",
       "    }\n",
       "\n",
       "    .dataframe thead th {\n",
       "        text-align: right;\n",
       "    }\n",
       "</style>\n",
       "<table border=\"1\" class=\"dataframe\">\n",
       "  <thead>\n",
       "    <tr style=\"text-align: right;\">\n",
       "      <th></th>\n",
       "      <th>loan_id</th>\n",
       "      <th>account_id</th>\n",
       "      <th>date_x</th>\n",
       "      <th>amount</th>\n",
       "      <th>duration</th>\n",
       "      <th>payments</th>\n",
       "      <th>status</th>\n",
       "      <th>disp_id</th>\n",
       "      <th>client_id</th>\n",
       "      <th>type_disp</th>\n",
       "      <th>card_id</th>\n",
       "      <th>type_card</th>\n",
       "      <th>issued</th>\n",
       "      <th>district_id</th>\n",
       "      <th>frequency</th>\n",
       "      <th>date_y</th>\n",
       "    </tr>\n",
       "  </thead>\n",
       "  <tbody>\n",
       "    <tr>\n",
       "      <th>0</th>\n",
       "      <td>5314</td>\n",
       "      <td>1787</td>\n",
       "      <td>930705</td>\n",
       "      <td>96396</td>\n",
       "      <td>12</td>\n",
       "      <td>8033</td>\n",
       "      <td>-1</td>\n",
       "      <td>2166</td>\n",
       "      <td>2166</td>\n",
       "      <td>1</td>\n",
       "      <td>NaN</td>\n",
       "      <td>NaN</td>\n",
       "      <td>NaN</td>\n",
       "      <td>30</td>\n",
       "      <td>4.348214</td>\n",
       "      <td>930322</td>\n",
       "    </tr>\n",
       "    <tr>\n",
       "      <th>1</th>\n",
       "      <td>5316</td>\n",
       "      <td>1801</td>\n",
       "      <td>930711</td>\n",
       "      <td>165960</td>\n",
       "      <td>36</td>\n",
       "      <td>4610</td>\n",
       "      <td>1</td>\n",
       "      <td>2181</td>\n",
       "      <td>2181</td>\n",
       "      <td>1</td>\n",
       "      <td>NaN</td>\n",
       "      <td>NaN</td>\n",
       "      <td>NaN</td>\n",
       "      <td>46</td>\n",
       "      <td>1.000000</td>\n",
       "      <td>930213</td>\n",
       "    </tr>\n",
       "    <tr>\n",
       "      <th>2</th>\n",
       "      <td>6863</td>\n",
       "      <td>9188</td>\n",
       "      <td>930728</td>\n",
       "      <td>127080</td>\n",
       "      <td>60</td>\n",
       "      <td>2118</td>\n",
       "      <td>1</td>\n",
       "      <td>11006</td>\n",
       "      <td>11314</td>\n",
       "      <td>1</td>\n",
       "      <td>NaN</td>\n",
       "      <td>NaN</td>\n",
       "      <td>NaN</td>\n",
       "      <td>45</td>\n",
       "      <td>1.000000</td>\n",
       "      <td>930208</td>\n",
       "    </tr>\n",
       "    <tr>\n",
       "      <th>3</th>\n",
       "      <td>5325</td>\n",
       "      <td>1843</td>\n",
       "      <td>930803</td>\n",
       "      <td>105804</td>\n",
       "      <td>36</td>\n",
       "      <td>2939</td>\n",
       "      <td>1</td>\n",
       "      <td>2235</td>\n",
       "      <td>2235</td>\n",
       "      <td>1</td>\n",
       "      <td>NaN</td>\n",
       "      <td>NaN</td>\n",
       "      <td>NaN</td>\n",
       "      <td>12</td>\n",
       "      <td>1.000000</td>\n",
       "      <td>930130</td>\n",
       "    </tr>\n",
       "    <tr>\n",
       "      <th>4</th>\n",
       "      <td>7240</td>\n",
       "      <td>11013</td>\n",
       "      <td>930906</td>\n",
       "      <td>274740</td>\n",
       "      <td>60</td>\n",
       "      <td>4579</td>\n",
       "      <td>1</td>\n",
       "      <td>13231</td>\n",
       "      <td>13539</td>\n",
       "      <td>1</td>\n",
       "      <td>NaN</td>\n",
       "      <td>NaN</td>\n",
       "      <td>NaN</td>\n",
       "      <td>1</td>\n",
       "      <td>4.348214</td>\n",
       "      <td>930214</td>\n",
       "    </tr>\n",
       "  </tbody>\n",
       "</table>\n",
       "</div>"
      ],
      "text/plain": [
       "   loan_id  account_id  date_x  amount  duration  payments  status  disp_id  \\\n",
       "0     5314        1787  930705   96396        12      8033      -1     2166   \n",
       "1     5316        1801  930711  165960        36      4610       1     2181   \n",
       "2     6863        9188  930728  127080        60      2118       1    11006   \n",
       "3     5325        1843  930803  105804        36      2939       1     2235   \n",
       "4     7240       11013  930906  274740        60      4579       1    13231   \n",
       "\n",
       "   client_id  type_disp  card_id  type_card  issued  district_id  frequency  \\\n",
       "0       2166          1      NaN        NaN     NaN           30   4.348214   \n",
       "1       2181          1      NaN        NaN     NaN           46   1.000000   \n",
       "2      11314          1      NaN        NaN     NaN           45   1.000000   \n",
       "3       2235          1      NaN        NaN     NaN           12   1.000000   \n",
       "4      13539          1      NaN        NaN     NaN            1   4.348214   \n",
       "\n",
       "   date_y  \n",
       "0  930322  \n",
       "1  930213  \n",
       "2  930208  \n",
       "3  930130  \n",
       "4  930214  "
      ]
     },
     "execution_count": 50,
     "metadata": {},
     "output_type": "execute_result"
    }
   ],
   "source": [
    "dataframes = [loan_train_df, loan_test_df]\n",
    "\n",
    "for i in range(len(dataframes)):\n",
    "    # Merge loan dataframe with disposition dataframe\n",
    "    dataframes[i] = dataframes[i].merge(right=disp_df, on=\"account_id\", how=\"left\")\n",
    "\n",
    "    # Merge loan dataframe with card dataframe\n",
    "    dataframes[i] = dataframes[i].merge(right=card_train_df, on=\"disp_id\", how=\"left\", suffixes=[\"_disp\", \"_card\"])\n",
    "\n",
    "    # Merge loan dataframe with account dataframe\n",
    "    dataframes[i] = dataframes[i].merge(right=account_df, on=\"account_id\", how=\"left\")\n",
    "\n",
    "loan_train_df, loan_test_df = dataframes\n",
    "\n",
    "loan_train_df.head()"
   ]
  },
  {
   "cell_type": "code",
   "execution_count": 51,
   "metadata": {},
   "outputs": [],
   "source": [
    "#pairplot_loan_df = loan_df.drop(labels=[\"loan_id\", \"card_id\", \"disp_id\", \"client_id\", \"account_id\", \"amount\"], axis=1)\n",
    "#sb.pairplot(pairplot_loan_df, hue='num_clients')"
   ]
  },
  {
   "cell_type": "code",
   "execution_count": 52,
   "metadata": {},
   "outputs": [],
   "source": [
    "#corr_matrix = pairplot_loan_df.corr(method='spearman')\n",
    "#plt.figure(figsize=(15,15))\n",
    "#plt.title('Correlation Heatmap of client Dataset')\n",
    "#a = sb.heatmap(corr_matrix, square=True, annot=True, fmt='.2f', linecolor='black')\n",
    "#a.set_xticklabels(a.get_xticklabels(), rotation=30)\n",
    "#a.set_yticklabels(a.get_yticklabels(), rotation=30)\n",
    "#plt.show()"
   ]
  },
  {
   "cell_type": "markdown",
   "metadata": {},
   "source": [
    "# Classifiers"
   ]
  },
  {
   "cell_type": "markdown",
   "metadata": {},
   "source": [
    "Columns to drop and feature target:"
   ]
  },
  {
   "cell_type": "code",
   "execution_count": 65,
   "metadata": {},
   "outputs": [
    {
     "data": {
      "text/html": [
       "<div>\n",
       "<style scoped>\n",
       "    .dataframe tbody tr th:only-of-type {\n",
       "        vertical-align: middle;\n",
       "    }\n",
       "\n",
       "    .dataframe tbody tr th {\n",
       "        vertical-align: top;\n",
       "    }\n",
       "\n",
       "    .dataframe thead th {\n",
       "        text-align: right;\n",
       "    }\n",
       "</style>\n",
       "<table border=\"1\" class=\"dataframe\">\n",
       "  <thead>\n",
       "    <tr style=\"text-align: right;\">\n",
       "      <th></th>\n",
       "      <th>date_x</th>\n",
       "      <th>amount</th>\n",
       "      <th>duration</th>\n",
       "      <th>payments</th>\n",
       "      <th>frequency</th>\n",
       "      <th>date_y</th>\n",
       "    </tr>\n",
       "  </thead>\n",
       "  <tbody>\n",
       "    <tr>\n",
       "      <th>0</th>\n",
       "      <td>930705</td>\n",
       "      <td>96396</td>\n",
       "      <td>12</td>\n",
       "      <td>8033</td>\n",
       "      <td>4.348214</td>\n",
       "      <td>930322</td>\n",
       "    </tr>\n",
       "    <tr>\n",
       "      <th>1</th>\n",
       "      <td>930711</td>\n",
       "      <td>165960</td>\n",
       "      <td>36</td>\n",
       "      <td>4610</td>\n",
       "      <td>1.000000</td>\n",
       "      <td>930213</td>\n",
       "    </tr>\n",
       "    <tr>\n",
       "      <th>2</th>\n",
       "      <td>930728</td>\n",
       "      <td>127080</td>\n",
       "      <td>60</td>\n",
       "      <td>2118</td>\n",
       "      <td>1.000000</td>\n",
       "      <td>930208</td>\n",
       "    </tr>\n",
       "    <tr>\n",
       "      <th>3</th>\n",
       "      <td>930803</td>\n",
       "      <td>105804</td>\n",
       "      <td>36</td>\n",
       "      <td>2939</td>\n",
       "      <td>1.000000</td>\n",
       "      <td>930130</td>\n",
       "    </tr>\n",
       "    <tr>\n",
       "      <th>4</th>\n",
       "      <td>930906</td>\n",
       "      <td>274740</td>\n",
       "      <td>60</td>\n",
       "      <td>4579</td>\n",
       "      <td>4.348214</td>\n",
       "      <td>930214</td>\n",
       "    </tr>\n",
       "  </tbody>\n",
       "</table>\n",
       "</div>"
      ],
      "text/plain": [
       "   date_x  amount  duration  payments  frequency  date_y\n",
       "0  930705   96396        12      8033   4.348214  930322\n",
       "1  930711  165960        36      4610   1.000000  930213\n",
       "2  930728  127080        60      2118   1.000000  930208\n",
       "3  930803  105804        36      2939   1.000000  930130\n",
       "4  930906  274740        60      4579   4.348214  930214"
      ]
     },
     "execution_count": 65,
     "metadata": {},
     "output_type": "execute_result"
    }
   ],
   "source": [
    "columns_to_drop = [\"loan_id\", \"account_id\", \"disp_id\", \"client_id\", \"card_id\", \"district_id\", \"status\", \"type_card\", \"issued\", \"type_disp\"]\n",
    "target_column = \"status\"\n",
    "\n",
    "loan_train_df.drop(columns_to_drop, axis=1).head()"
   ]
  },
  {
   "cell_type": "markdown",
   "metadata": {},
   "source": [
    "## Decision Tree"
   ]
  },
  {
   "cell_type": "code",
   "execution_count": 66,
   "metadata": {},
   "outputs": [
    {
     "name": "stdout",
     "output_type": "stream",
     "text": [
      "Best score: 0.9394668489405331\n",
      "Best parameters: {'criterion': 'gini', 'max_depth': 1, 'splitter': 'best'}\n"
     ]
    },
    {
     "data": {
      "image/png": "[encoded data removed]",
      "text/plain": [
       "<Figure size 432x288 with 1 Axes>"
      ]
     },
     "metadata": {
      "needs_background": "light"
     },
     "output_type": "display_data"
    }
   ],
   "source": [
    "from sklearn.tree import DecisionTreeClassifier, plot_tree\n",
    "\n",
    "parameter_grid = {\n",
    "    'criterion': ['gini', 'entropy'],\n",
    "    'splitter': ['best', 'random'],\n",
    "    'max_depth': range(1, 7)\n",
    "}\n",
    "\n",
    "# No feature selection\n",
    "dt = tune_model(\n",
    "    loan_train_df, \n",
    "    DecisionTreeClassifier(),\n",
    "    parameter_grid, \n",
    "    columns_to_drop, \n",
    "    target_column\n",
    ")\n",
    "\n",
    "plot_tree(dt.best_estimator_);"
   ]
  },
  {
   "cell_type": "markdown",
   "metadata": {},
   "source": [
    "## SVM\n",
    "Needs to be scaled (StandardScaler)"
   ]
  },
  {
   "cell_type": "code",
   "execution_count": 85,
   "metadata": {},
   "outputs": [
    {
     "name": "stdout",
     "output_type": "stream",
     "text": [
      "Best score: 0.9394668489405331\n",
      "Best parameters: {'C': 1, 'gamma': 0.001, 'kernel': 'linear'}\n"
     ]
    },
    {
     "data": {
      "text/plain": [
       "SVC(C=1, gamma=0.001, kernel='linear', probability=True)"
      ]
     },
     "execution_count": 85,
     "metadata": {},
     "output_type": "execute_result"
    }
   ],
   "source": [
    "from sklearn.svm import SVC\n",
    "from sklearn.preprocessing import StandardScaler\n",
    "\n",
    "parameter_grid = {\n",
    "    'C': [1, 10, 50],\n",
    "    'gamma': [0.001, 0.0001],\n",
    "    # 'kernel': ['linear', 'poly', 'rbf']\n",
    "    'kernel': ['linear', 'poly', 'rbf', 'sigmoid']\n",
    "}\n",
    "\n",
    "# No feature selection\n",
    "svc = tune_model(\n",
    "    loan_train_df, \n",
    "    SVC(probability=True), \n",
    "    parameter_grid,\n",
    "    columns_to_drop, \n",
    "    target_column, \n",
    "    scaler=StandardScaler()\n",
    ")\n",
    "\n",
    "svc.best_estimator_"
   ]
  },
  {
   "cell_type": "markdown",
   "metadata": {},
   "source": [
    "# K-nearest neighbours (KNN)\n",
    "Just like the SVM model, the KNN model also requires the data to be scaled."
   ]
  },
  {
   "cell_type": "code",
   "execution_count": 68,
   "metadata": {},
   "outputs": [
    {
     "name": "stdout",
     "output_type": "stream",
     "text": [
      "Best score: 0.9394668489405331\n",
      "Best parameters: {'algorithm': 'auto', 'leaf_size': 5, 'n_jobs': -1, 'n_neighbors': 15}\n"
     ]
    }
   ],
   "source": [
    "from sklearn import neighbors\n",
    "\n",
    "parameter_grid = {\n",
    "    'n_neighbors': [4, 5, 6, 7, 10, 15],\n",
    "    'leaf_size': [5, 10, 15, 20, 50, 100],\n",
    "    'n_jobs': [-1],\n",
    "    'algorithm': ['auto']\n",
    "}\n",
    "\n",
    "# No feature selection\n",
    "knn = neighbors.KNeighborsClassifier()\n",
    "knn = tune_model(\n",
    "    loan_train_df, \n",
    "    neighbors.KNeighborsClassifier(), \n",
    "    parameter_grid, \n",
    "    columns_to_drop, \n",
    "    target_column, \n",
    "    scaler=StandardScaler()\n",
    ")"
   ]
  },
  {
   "cell_type": "markdown",
   "metadata": {},
   "source": [
    "# Naïve Bayes"
   ]
  },
  {
   "cell_type": "code",
   "execution_count": 69,
   "metadata": {},
   "outputs": [
    {
     "name": "stdout",
     "output_type": "stream",
     "text": [
      "Best score: 0.9153252382817602\n",
      "Best parameters: {}\n"
     ]
    }
   ],
   "source": [
    "from sklearn.naive_bayes import GaussianNB\n",
    "\n",
    "parameter_grid = {}\n",
    "\n",
    "# No feature selection\n",
    "nb = tune_model(\n",
    "    loan_train_df, \n",
    "    GaussianNB(),\n",
    "    parameter_grid, \n",
    "    columns_to_drop, \n",
    "    target_column, \n",
    "    scaler=StandardScaler()\n",
    ")"
   ]
  },
  {
   "cell_type": "markdown",
   "metadata": {},
   "source": [
    "# Random Forest Classifier"
   ]
  },
  {
   "cell_type": "code",
   "execution_count": 70,
   "metadata": {},
   "outputs": [
    {
     "name": "stdout",
     "output_type": "stream",
     "text": [
      "Best score: 0.9404047998784841\n",
      "Best parameters: {'criterion': 'gini', 'max_depth': 5, 'n_estimators': 100, 'n_jobs': -1}\n"
     ]
    }
   ],
   "source": [
    "from sklearn.ensemble import RandomForestClassifier\n",
    "\n",
    "parameter_grid = {\n",
    "    'n_estimators': [10, 50, 100, 200],\n",
    "    'max_depth': [5, 10, 15],\n",
    "    'n_jobs': [-1],  # Use all cores\n",
    "    'criterion': ['gini', 'entropy']\n",
    "}\n",
    "\n",
    "# No feature selection\n",
    "rfc = tune_model(\n",
    "    loan_train_df, \n",
    "    RandomForestClassifier(), \n",
    "    parameter_grid, \n",
    "    columns_to_drop, \n",
    "    target_column\n",
    ")"
   ]
  },
  {
   "cell_type": "markdown",
   "metadata": {},
   "source": [
    "# Comparing Models"
   ]
  },
  {
   "cell_type": "code",
   "execution_count": 73,
   "metadata": {},
   "outputs": [
    {
     "data": {
      "image/png": "[encoded data removed]",
      "text/plain": [
       "<Figure size 720x648 with 1 Axes>"
      ]
     },
     "metadata": {
      "needs_background": "light"
     },
     "output_type": "display_data"
    }
   ],
   "source": [
    "import numpy as np\n",
    "\n",
    "scores = {\n",
    "    \"Decision Tree\" : [dt], #[dt_original, dt, dt_os_fs],\n",
    "    \"SVC\" : [svc], #[svc_original, svc, svc_os_fs],\n",
    "    \"K-nearest Neighbours\" : [knn], #[knn_original, knn, knn_os_fs],\n",
    "    \"Naive Bayes\" : [nb], #[nb_original, nb, nb_os_fs],\n",
    "    \"Random Forest\" : [rfc], #[rfc_original, rfc, rfc_os_fs]\n",
    "}\n",
    "\n",
    "labels =\"No Feature selection\" # [\"No oversampling/No feature selection\",\"No oversampling/Feature selection\", \"Oversampling/Feature selection\"]\n",
    "\n",
    "ind = np.arange(5)\n",
    "\n",
    "plt.figure(figsize=(10,9))\n",
    "plt.bar(ind, [i[0].best_score_ for i in scores.values()], 0.2)\n",
    "# ax = plt.bar(ind + 0.2, [i[1].best_score_ for i in scores.values()], 0.2)\n",
    "# ax = plt.bar(ind + 0.4, [i[2].best_score_ for i in scores.values()], 0.2)\n",
    "plt.xticks(ind, scores.keys())\n",
    "plt.legend(labels, loc=1)\n",
    "plt.ylim(0, 1)\n",
    "plt.show()"
   ]
  },
  {
   "cell_type": "markdown",
   "metadata": {},
   "source": [
    "## Save results"
   ]
  },
  {
   "cell_type": "code",
   "execution_count": 94,
   "metadata": {},
   "outputs": [],
   "source": [
    "X_result = loan_test_df.drop(columns_to_drop, axis=1)\n",
    "\n",
    "y_result = rfc.predict_proba(X_result)[:, 0]\n",
    "\n",
    "result = pd.DataFrame({\"Id\": loan_test_df[\"loan_id\"], \"Predicted\": y_result})\n",
    "result.drop_duplicates(inplace=True)\n",
    "result.to_csv(\"../out/result.csv\", index=False)"
   ]
  }
 ],
 "metadata": {
  "interpreter": {
   "hash": "63fd5069d213b44bf678585dea6b12cceca9941eaf7f819626cde1f2670de90d"
  },
  "kernelspec": {
   "display_name": "Python 3.9.7 64-bit",
   "language": "python",
   "name": "python3"
  },
  "language_info": {
   "codemirror_mode": {
    "name": "ipython",
    "version": 3
   },
   "file_extension": ".py",
   "mimetype": "text/x-python",
   "name": "python",
   "nbconvert_exporter": "python",
   "pygments_lexer": "ipython3",
   "version": "3.9.7"
  },
  "orig_nbformat": 4
 },
 "nbformat": 4,
 "nbformat_minor": 2
}
