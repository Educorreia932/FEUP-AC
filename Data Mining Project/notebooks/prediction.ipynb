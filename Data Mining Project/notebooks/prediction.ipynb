{
 "cells": [
  {
   "cell_type": "markdown",
   "metadata": {},
   "source": [
    "# Prediction"
   ]
  },
  {
   "cell_type": "markdown",
   "metadata": {},
   "source": [
    "## Load preprocessed dataframes"
   ]
  },
  {
   "cell_type": "code",
   "execution_count": 12,
   "metadata": {},
   "outputs": [],
   "source": [
    "from utils import *\n",
    "\n",
    "train_df = pd.read_pickle(\"../out/train.pkl\")\n",
    "test_df = pd.read_pickle(\"../out/test.pkl\")"
   ]
  },
  {
   "cell_type": "markdown",
   "metadata": {},
   "source": [
    "## Columns to drop and feature target"
   ]
  },
  {
   "cell_type": "code",
   "execution_count": 13,
   "metadata": {},
   "outputs": [
    {
     "data": {
      "text/html": [
       "<div>\n",
       "<style scoped>\n",
       "    .dataframe tbody tr th:only-of-type {\n",
       "        vertical-align: middle;\n",
       "    }\n",
       "\n",
       "    .dataframe tbody tr th {\n",
       "        vertical-align: top;\n",
       "    }\n",
       "\n",
       "    .dataframe thead th {\n",
       "        text-align: right;\n",
       "    }\n",
       "</style>\n",
       "<table border=\"1\" class=\"dataframe\">\n",
       "  <thead>\n",
       "    <tr style=\"text-align: right;\">\n",
       "      <th></th>\n",
       "      <th>loan_amount</th>\n",
       "      <th>payments</th>\n",
       "      <th>issuance_frequency_per_month</th>\n",
       "      <th>no. of municipalities with inhabitants &lt; 499</th>\n",
       "      <th>no. of cities</th>\n",
       "      <th>balance_mean</th>\n",
       "      <th>balance_min</th>\n",
       "      <th>client_count_mean</th>\n",
       "      <th>operation_count</th>\n",
       "      <th>type_transaction_count_withdrawal</th>\n",
       "      <th>num_times_under_zero</th>\n",
       "      <th>account_age</th>\n",
       "      <th>days_since_last_transaction</th>\n",
       "    </tr>\n",
       "  </thead>\n",
       "  <tbody>\n",
       "    <tr>\n",
       "      <th>0</th>\n",
       "      <td>80952</td>\n",
       "      <td>3373</td>\n",
       "      <td>1.000000</td>\n",
       "      <td>0</td>\n",
       "      <td>1</td>\n",
       "      <td>32590.624074</td>\n",
       "      <td>1100.0</td>\n",
       "      <td>2.0</td>\n",
       "      <td>44</td>\n",
       "      <td>32</td>\n",
       "      <td>False</td>\n",
       "      <td>313</td>\n",
       "      <td>5</td>\n",
       "    </tr>\n",
       "    <tr>\n",
       "      <th>1</th>\n",
       "      <td>30276</td>\n",
       "      <td>2523</td>\n",
       "      <td>1.000000</td>\n",
       "      <td>87</td>\n",
       "      <td>7</td>\n",
       "      <td>25197.092500</td>\n",
       "      <td>715.0</td>\n",
       "      <td>1.0</td>\n",
       "      <td>56</td>\n",
       "      <td>34</td>\n",
       "      <td>False</td>\n",
       "      <td>388</td>\n",
       "      <td>19</td>\n",
       "    </tr>\n",
       "    <tr>\n",
       "      <th>2</th>\n",
       "      <td>165960</td>\n",
       "      <td>6915</td>\n",
       "      <td>1.000000</td>\n",
       "      <td>74</td>\n",
       "      <td>8</td>\n",
       "      <td>52523.244800</td>\n",
       "      <td>700.0</td>\n",
       "      <td>1.0</td>\n",
       "      <td>107</td>\n",
       "      <td>88</td>\n",
       "      <td>False</td>\n",
       "      <td>561</td>\n",
       "      <td>2</td>\n",
       "    </tr>\n",
       "    <tr>\n",
       "      <th>3</th>\n",
       "      <td>88440</td>\n",
       "      <td>7370</td>\n",
       "      <td>13.044643</td>\n",
       "      <td>9</td>\n",
       "      <td>8</td>\n",
       "      <td>62778.090323</td>\n",
       "      <td>200.0</td>\n",
       "      <td>2.0</td>\n",
       "      <td>25</td>\n",
       "      <td>15</td>\n",
       "      <td>False</td>\n",
       "      <td>179</td>\n",
       "      <td>6</td>\n",
       "    </tr>\n",
       "    <tr>\n",
       "      <th>4</th>\n",
       "      <td>104808</td>\n",
       "      <td>8734</td>\n",
       "      <td>1.000000</td>\n",
       "      <td>151</td>\n",
       "      <td>5</td>\n",
       "      <td>38709.830000</td>\n",
       "      <td>500.0</td>\n",
       "      <td>2.0</td>\n",
       "      <td>25</td>\n",
       "      <td>18</td>\n",
       "      <td>False</td>\n",
       "      <td>186</td>\n",
       "      <td>6</td>\n",
       "    </tr>\n",
       "  </tbody>\n",
       "</table>\n",
       "</div>"
      ],
      "text/plain": [
       "   loan_amount  payments  issuance_frequency_per_month  \\\n",
       "0        80952      3373                      1.000000   \n",
       "1        30276      2523                      1.000000   \n",
       "2       165960      6915                      1.000000   \n",
       "3        88440      7370                     13.044643   \n",
       "4       104808      8734                      1.000000   \n",
       "\n",
       "   no. of municipalities with inhabitants < 499  no. of cities  balance_mean  \\\n",
       "0                                             0              1  32590.624074   \n",
       "1                                            87              7  25197.092500   \n",
       "2                                            74              8  52523.244800   \n",
       "3                                             9              8  62778.090323   \n",
       "4                                           151              5  38709.830000   \n",
       "\n",
       "   balance_min  client_count_mean  operation_count  \\\n",
       "0       1100.0                2.0               44   \n",
       "1        715.0                1.0               56   \n",
       "2        700.0                1.0              107   \n",
       "3        200.0                2.0               25   \n",
       "4        500.0                2.0               25   \n",
       "\n",
       "   type_transaction_count_withdrawal  num_times_under_zero  account_age  \\\n",
       "0                                 32                 False          313   \n",
       "1                                 34                 False          388   \n",
       "2                                 88                 False          561   \n",
       "3                                 15                 False          179   \n",
       "4                                 18                 False          186   \n",
       "\n",
       "   days_since_last_transaction  \n",
       "0                            5  \n",
       "1                           19  \n",
       "2                            2  \n",
       "3                            6  \n",
       "4                            6  "
      ]
     },
     "execution_count": 13,
     "metadata": {},
     "output_type": "execute_result"
    }
   ],
   "source": [
    "columns_to_drop = [\"loan_id\", \"status\"]\n",
    "target_column = \"status\"\n",
    "\n",
    "train_df.drop(columns_to_drop, axis=1).head()"
   ]
  },
  {
   "cell_type": "markdown",
   "metadata": {},
   "source": [
    "## Tune Models"
   ]
  },
  {
   "cell_type": "markdown",
   "metadata": {},
   "source": [
    "### Decision Tree"
   ]
  },
  {
   "cell_type": "code",
   "execution_count": 14,
   "metadata": {},
   "outputs": [
    {
     "name": "stdout",
     "output_type": "stream",
     "text": [
      "Best score: 0.8490394088669951\n",
      "Best parameters: {'model__criterion': 'entropy', 'model__max_depth': 3, 'model__splitter': 'random'}\n",
      "Best score: 0.8708559113300491\n",
      "Best parameters: {'model__criterion': 'entropy', 'model__max_depth': 5, 'model__splitter': 'random'}\n",
      "Best score: 0.8335652709359607\n",
      "Best parameters: {'model__criterion': 'entropy', 'model__max_depth': 3, 'model__splitter': 'random'}\n",
      "Best score: 0.8182881773399014\n",
      "Best parameters: {'model__criterion': 'gini', 'model__max_depth': 4, 'model__splitter': 'random'}\n"
     ]
    }
   ],
   "source": [
    "from sklearn.tree import DecisionTreeClassifier, plot_tree\n",
    "\n",
    "parameter_grid = {\n",
    "    'criterion': ['gini', 'entropy'],\n",
    "    'splitter': ['best', 'random'],\n",
    "    'max_depth': range(1, 7)\n",
    "}\n",
    "\n",
    "dt, dt_fs, dt_os, dt_fs_os = (tune_model(\n",
    "    train_df, \n",
    "    DecisionTreeClassifier(),\n",
    "    parameter_grid, \n",
    "    columns_to_drop, \n",
    "    target_column,\n",
    "    oversample=oversample,\n",
    "    feature_selection=feature_selection\n",
    ") for oversample, feature_selection in ((False, False), (False, True), (True, False), (True,True)))"
   ]
  },
  {
   "cell_type": "code",
   "execution_count": 15,
   "metadata": {},
   "outputs": [
    {
     "data": {
      "text/plain": [
       "<sklearn.metrics._plot.roc_curve.RocCurveDisplay at 0x18ec775bbe0>"
      ]
     },
     "execution_count": 15,
     "metadata": {},
     "output_type": "execute_result"
    },
    {
     "data": {
      "image/png": "[encoded data removed]",
      "text/plain": [
       "<Figure size 432x288 with 1 Axes>"
      ]
     },
     "metadata": {
      "needs_background": "light"
     },
     "output_type": "display_data"
    }
   ],
   "source": [
    "from sklearn.metrics import RocCurveDisplay\n",
    "\n",
    "RocCurveDisplay.from_estimator(dt.best_estimator_, train_df.drop(columns_to_drop, axis=1), train_df[target_column])"
   ]
  },
  {
   "cell_type": "markdown",
   "metadata": {},
   "source": [
    "### SVM\n",
    "Needs to be scaled (StandardScaler)"
   ]
  },
  {
   "cell_type": "code",
   "execution_count": 16,
   "metadata": {},
   "outputs": [
    {
     "name": "stdout",
     "output_type": "stream",
     "text": [
      "Best score: 0.8944088669950739\n",
      "Best parameters: {'model__C': 1, 'model__gamma': 0.001, 'model__kernel': 'linear'}\n",
      "Best score: 0.8770320197044335\n",
      "Best parameters: {'model__C': 10, 'model__gamma': 0.001, 'model__kernel': 'linear'}\n",
      "Best score: 0.8756465517241381\n",
      "Best parameters: {'model__C': 50, 'model__gamma': 0.0001, 'model__kernel': 'sigmoid'}\n",
      "Best score: 0.8777894088669951\n",
      "Best parameters: {'model__C': 1, 'model__gamma': 0.001, 'model__kernel': 'rbf'}\n"
     ]
    }
   ],
   "source": [
    "from sklearn.svm import SVC\n",
    "from sklearn.preprocessing import StandardScaler\n",
    "\n",
    "parameter_grid = {\n",
    "    'C': [1, 10, 50],\n",
    "    'gamma': [0.001, 0.0001],\n",
    "    'kernel': ['linear', 'poly', 'rbf', 'sigmoid']\n",
    "}\n",
    "\n",
    "svc, svc_fs, svc_os, svc_fs_os = (tune_model(\n",
    "    train_df, \n",
    "    SVC(probability=True), \n",
    "    parameter_grid,\n",
    "    columns_to_drop, \n",
    "    target_column, \n",
    "    scaler=StandardScaler(),\n",
    "    oversample=oversample,\n",
    "    feature_selection=feature_selection\n",
    ") for oversample, feature_selection in ((False, False), (False, True), (True, False), (True,True)))"
   ]
  },
  {
   "cell_type": "code",
   "execution_count": null,
   "metadata": {},
   "outputs": [],
   "source": [
    "RocCurveDisplay.from_estimator(svc.best_estimator_, train_df.drop(columns_to_drop, axis=1), train_df[target_column])"
   ]
  },
  {
   "cell_type": "markdown",
   "metadata": {},
   "source": [
    "###  K-nearest neighbours (KNN)\n",
    "Just like the SVM model, the KNN model also requires the data to be scaled."
   ]
  },
  {
   "cell_type": "code",
   "execution_count": 17,
   "metadata": {},
   "outputs": [
    {
     "name": "stdout",
     "output_type": "stream",
     "text": [
      "Best score: 0.8465363300492612\n",
      "Best parameters: {'model__algorithm': 'auto', 'model__leaf_size': 5, 'model__n_jobs': -1, 'model__n_neighbors': 7}\n",
      "Best score: 0.838445197044335\n",
      "Best parameters: {'model__algorithm': 'auto', 'model__leaf_size': 5, 'model__n_jobs': -1, 'model__n_neighbors': 4}\n",
      "Best score: 0.8663023399014778\n",
      "Best parameters: {'model__algorithm': 'auto', 'model__leaf_size': 5, 'model__n_jobs': -1, 'model__n_neighbors': 15}\n",
      "Best score: 0.8631188423645322\n",
      "Best parameters: {'model__algorithm': 'auto', 'model__leaf_size': 15, 'model__n_jobs': -1, 'model__n_neighbors': 15}\n"
     ]
    }
   ],
   "source": [
    "from sklearn import neighbors\n",
    "\n",
    "parameter_grid = {\n",
    "    'n_neighbors': [4, 5, 6, 7, 10, 15],\n",
    "    'leaf_size': [5, 10, 15, 20, 50, 100],\n",
    "    'n_jobs': [-1],\n",
    "    'algorithm': ['auto']\n",
    "}\n",
    "\n",
    "knn, knn_fs, knn_os, knn_fs_os = (tune_model(\n",
    "    train_df, \n",
    "    neighbors.KNeighborsClassifier(), \n",
    "    parameter_grid, \n",
    "    columns_to_drop, \n",
    "    target_column, \n",
    "    scaler=StandardScaler(),\n",
    "    oversample=oversample,\n",
    "    feature_selection=feature_selection\n",
    ") for oversample, feature_selection in ((False, False), (False, True), (True, False), (True,True)))"
   ]
  },
  {
   "cell_type": "code",
   "execution_count": null,
   "metadata": {},
   "outputs": [],
   "source": [
    "RocCurveDisplay.from_estimator(knn.best_estimator_, train_df.drop(columns_to_drop, axis=1), train_df[target_column])"
   ]
  },
  {
   "cell_type": "markdown",
   "metadata": {},
   "source": [
    "### Naïve Bayes"
   ]
  },
  {
   "cell_type": "code",
   "execution_count": 18,
   "metadata": {},
   "outputs": [
    {
     "name": "stdout",
     "output_type": "stream",
     "text": [
      "Best score: 0.8785591133004926\n",
      "Best parameters: {}\n",
      "Best score: 0.8607019704433497\n",
      "Best parameters: {}\n",
      "Best score: 0.8699876847290641\n",
      "Best parameters: {}\n",
      "Best score: 0.8368903940886699\n",
      "Best parameters: {}\n"
     ]
    }
   ],
   "source": [
    "from sklearn.naive_bayes import GaussianNB\n",
    "\n",
    "parameter_grid = {}\n",
    "\n",
    "nb, nb_fs, nb_os, nb_fs_os = (tune_model(\n",
    "    train_df, \n",
    "    GaussianNB(),\n",
    "    parameter_grid, \n",
    "    columns_to_drop, \n",
    "    target_column, \n",
    "    scaler=StandardScaler(),\n",
    "    oversample=oversample,\n",
    "    feature_selection=feature_selection\n",
    ") for oversample, feature_selection in ((False, False), (False, True), (True, False), (True,True)))"
   ]
  },
  {
   "cell_type": "code",
   "execution_count": 23,
   "metadata": {},
   "outputs": [
    {
     "name": "stderr",
     "output_type": "stream",
     "text": [
      "C:\\Python39\\lib\\site-packages\\sklearn\\base.py:434: UserWarning: X has feature names, but GaussianNB was fitted without feature names\n",
      "  warnings.warn(\n"
     ]
    },
    {
     "data": {
      "text/plain": [
       "<sklearn.metrics._plot.roc_curve.RocCurveDisplay at 0x18ec7b86580>"
      ]
     },
     "execution_count": 23,
     "metadata": {},
     "output_type": "execute_result"
    },
    {
     "data": {
      "image/png": "[encoded data removed]",
      "text/plain": [
       "<Figure size 432x288 with 1 Axes>"
      ]
     },
     "metadata": {
      "needs_background": "light"
     },
     "output_type": "display_data"
    }
   ],
   "source": [
    "RocCurveDisplay.from_estimator(nb.best_estimator_, train_df.drop(columns_to_drop, axis=1), train_df[target_column])"
   ]
  },
  {
   "cell_type": "markdown",
   "metadata": {},
   "source": [
    "### Random Forest Classifier"
   ]
  },
  {
   "cell_type": "code",
   "execution_count": 19,
   "metadata": {},
   "outputs": [
    {
     "name": "stdout",
     "output_type": "stream",
     "text": [
      "Best score: 0.876884236453202\n",
      "Best parameters: {'model__criterion': 'entropy', 'model__max_depth': 5, 'model__n_estimators': 200, 'model__n_jobs': -1}\n",
      "Best score: 0.8751631773399016\n",
      "Best parameters: {'model__criterion': 'entropy', 'model__max_depth': 5, 'model__n_estimators': 10, 'model__n_jobs': -1}\n",
      "Best score: 0.8740517241379312\n",
      "Best parameters: {'model__criterion': 'entropy', 'model__max_depth': 10, 'model__n_estimators': 200, 'model__n_jobs': -1}\n",
      "Best score: 0.878756157635468\n",
      "Best parameters: {'model__criterion': 'entropy', 'model__max_depth': 10, 'model__n_estimators': 10, 'model__n_jobs': -1}\n"
     ]
    }
   ],
   "source": [
    "from sklearn.ensemble import RandomForestClassifier\n",
    "\n",
    "parameter_grid = {\n",
    "    'n_estimators': [10, 50, 100, 200],\n",
    "    'max_depth': [5, 10, 15],\n",
    "    'n_jobs': [-1],  # Use all cores\n",
    "    'criterion': ['gini', 'entropy']\n",
    "}\n",
    "\n",
    "rfc, rfc_fs, rfc_os, rfc_fs_os = (tune_model(\n",
    "    train_df, \n",
    "    RandomForestClassifier(), \n",
    "    parameter_grid, \n",
    "    columns_to_drop, \n",
    "    target_column,\n",
    "    oversample=oversample,\n",
    "    feature_selection=feature_selection\n",
    ") for oversample, feature_selection in ((False, False), (False, True), (True, False), (True,True)))"
   ]
  },
  {
   "cell_type": "code",
   "execution_count": null,
   "metadata": {},
   "outputs": [],
   "source": [
    "RocCurveDisplay.from_estimator(rfc.best_estimator_, train_df.drop(columns_to_drop, axis=1), train_df[target_column])"
   ]
  },
  {
   "cell_type": "markdown",
   "metadata": {},
   "source": [
    "## Logistic Regression"
   ]
  },
  {
   "cell_type": "code",
   "execution_count": 20,
   "metadata": {},
   "outputs": [
    {
     "name": "stdout",
     "output_type": "stream",
     "text": [
      "Best score: 0.8812684729064039\n",
      "Best parameters: {'model__max_iter': 1000, 'model__solver': 'lbfgs'}\n",
      "Best score: 0.887487684729064\n",
      "Best parameters: {'model__max_iter': 1000, 'model__solver': 'lbfgs'}\n",
      "Best score: 0.8842426108374383\n",
      "Best parameters: {'model__max_iter': 1000, 'model__solver': 'lbfgs'}\n",
      "Best score: 0.8845689655172413\n",
      "Best parameters: {'model__max_iter': 5000, 'model__solver': 'lbfgs'}\n"
     ]
    }
   ],
   "source": [
    "from sklearn.linear_model import LogisticRegression\n",
    "\n",
    "parameter_grid = {\n",
    "    \"max_iter\": [1000, 5000, 10000],\n",
    "    \"solver\": [\"lbfgs\"]\n",
    "}\n",
    "\n",
    "lr, lr_fs, lr_os, lr_fs_os = (tune_model(\n",
    "    train_df,\n",
    "    LogisticRegression(),\n",
    "    parameter_grid,\n",
    "    columns_to_drop,\n",
    "    target_column,\n",
    "    scaler=StandardScaler(),\n",
    "    oversample=oversample,\n",
    "    feature_selection=feature_selection\n",
    ") for oversample, feature_selection in ((False, False), (False, True), (True, False), (True,True)))"
   ]
  },
  {
   "cell_type": "code",
   "execution_count": null,
   "metadata": {},
   "outputs": [],
   "source": [
    "RocCurveDisplay.from_estimator(lr.best_estimator_, train_df.drop(columns_to_drop, axis=1), train_df[target_column])"
   ]
  },
  {
   "cell_type": "markdown",
   "metadata": {},
   "source": [
    "## Comparing Models"
   ]
  },
  {
   "cell_type": "code",
   "execution_count": 21,
   "metadata": {},
   "outputs": [
    {
     "data": {
      "image/png": "[encoded data removed]",
      "text/plain": [
       "<Figure size 1080x936 with 1 Axes>"
      ]
     },
     "metadata": {
      "needs_background": "light"
     },
     "output_type": "display_data"
    }
   ],
   "source": [
    "scores = {\n",
    "    \"Decision Tree\": [dt, dt_fs, dt_os, dt_fs_os],\n",
    "    \"SVC\": [svc, svc_fs, svc_os, svc_fs_os],\n",
    "    \"K-nearest Neighbours\": [knn, knn_fs, knn_os, knn_fs_os],\n",
    "    \"Naive Bayes\": [nb, nb_fs, nb_os, nb_fs_os],\n",
    "    \"Random Forest\": [rfc, rfc_fs, rfc_os, rfc_fs_os],\n",
    "    \"Logistic Regression\": [lr, lr_fs, lr_os, lr_fs_os]\n",
    "}\n",
    "\n",
    "labels = [\"No Feature selection/No oversampling\", \"Feature Selection\", \"Oversampling\", \"Feature Selection/Oversampling\"]\n",
    "\n",
    "ind = np.arange(6)\n",
    "\n",
    "plt.figure(figsize=(15, 13))\n",
    "plt.bar(ind, [i[0].best_score_ for i in scores.values()], 0.2)\n",
    "\n",
    "ax = plt.bar(ind + 0.2, [i[1].best_score_ for i in scores.values()], 0.2)\n",
    "ax = plt.bar(ind + 0.4, [i[2].best_score_ for i in scores.values()], 0.2)\n",
    "ax = plt.bar(ind + 0.6, [i[3].best_score_ for i in scores.values()], 0.2)\n",
    "\n",
    "plt.xticks(ind, scores.keys())\n",
    "plt.legend(labels, loc=1)\n",
    "plt.ylim(0, 1)\n",
    "plt.show()"
   ]
  },
  {
   "cell_type": "markdown",
   "metadata": {},
   "source": [
    "## Save results"
   ]
  },
  {
   "cell_type": "code",
   "execution_count": 22,
   "metadata": {},
   "outputs": [],
   "source": [
    "X_result = test_df.drop(columns_to_drop, axis=1)\n",
    "\n",
    "y_result = svc.predict_proba(X_result)[:, 1]\n",
    "\n",
    "result = pd.DataFrame({\"Id\": test_df[\"loan_id\"], \"Predicted\": y_result})\n",
    "result.drop_duplicates(inplace=True)\n",
    "result.to_csv(\"../out/result.csv\", index=False)"
   ]
  }
 ],
 "metadata": {
  "interpreter": {
   "hash": "63fd5069d213b44bf678585dea6b12cceca9941eaf7f819626cde1f2670de90d"
  },
  "kernelspec": {
   "display_name": "Python 3.9.7 64-bit",
   "language": "python",
   "name": "python3"
  },
  "language_info": {
   "codemirror_mode": {
    "name": "ipython",
    "version": 3
   },
   "file_extension": ".py",
   "mimetype": "text/x-python",
   "name": "python",
   "nbconvert_exporter": "python",
   "pygments_lexer": "ipython3",
   "version": "3.9.7"
  },
  "orig_nbformat": 4
 },
 "nbformat": 4,
 "nbformat_minor": 2
}
